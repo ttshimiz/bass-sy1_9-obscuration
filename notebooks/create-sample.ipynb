{
 "cells": [
  {
   "cell_type": "markdown",
   "metadata": {},
   "source": [
    "# Sample definitions\n",
    "This notebook takes the BASS DR 1 catalog as the parent sample and whittles it down to the sample we want to use for our analysis. The cleaned sample will be saved in the ../data directory as a CSV file. "
   ]
  },
  {
   "cell_type": "code",
   "execution_count": 1,
   "metadata": {
    "collapsed": true
   },
   "outputs": [],
   "source": [
    "# Standard module imports\n",
    "import numpy as np\n",
    "import pandas as pd\n",
    "\n",
    "# Useful Directory paths\n",
    "bass_dir = '/Users/ttshimiz/Dropbox/Research/BASS/'"
   ]
  },
  {
   "cell_type": "markdown",
   "metadata": {},
   "source": [
    "We start with the entire BASS DR 1 catalog. The measurements we want for our analysis are the intrinsic X-ray luminosity, the broad H$\\alpha$ luminosity, and the X-ray absorbing column. We further will need more general information such as the Seyfert type, distance, and redshift."
   ]
  },
  {
   "cell_type": "code",
   "execution_count": 5,
   "metadata": {
    "collapsed": false
   },
   "outputs": [],
   "source": [
    "# Upload the catalog and measurements\n",
    "bass_general = pd.read_csv(bass_dir+'bass_general_dr1.csv', index_col=0, skiprows=[1])       # File with general info for every source\n",
    "bass_xray = pd.read_csv(bass_dir+'ricci_xray_fits.csv', index_col=0)           # File with the X-ray spectral fits from Ricci+16\n",
    "bass_sy_class = pd.read_csv(bass_dir+'bass_seyfert_class.csv', index_col=0)     # File with the Winkler 1992 seyfert class types\n",
    "bass_halpha = pd.read_csv(bass_dir+'bass_halpha_dr1.csv', index_col=1)         # File with the H-alpha measurements"
   ]
  },
  {
   "cell_type": "markdown",
   "metadata": {},
   "source": [
    "For now our sample will be defined as those sources that are Sy 1, 1.2, 1.5, 1.8, 1.9, or 2 that have intrinsic X-ray luminosity and broad H-alpha measurements. They further need to have a distance measurement."
   ]
  },
  {
   "cell_type": "code",
   "execution_count": 6,
   "metadata": {
    "collapsed": false
   },
   "outputs": [
    {
     "name": "stdout",
     "output_type": "stream",
     "text": [
      "Number of sources with distance measurement = 789\n"
     ]
    }
   ],
   "source": [
    "# Get all sources with a valid 'Best distance'\n",
    "bass_dist = bass_general['Best distance']\n",
    "bass_dist = bass_dist[bass_dist > 0]\n",
    "\n",
    "print 'Number of sources with distance measurement =', len(bass_dist)"
   ]
  },
  {
   "cell_type": "markdown",
   "metadata": {},
   "source": [
    "Grab the Seyfert types from bass_sy_class. These Types were determined using the Winkler 1992 classification scheme. Throw out all Blazars, and other types."
   ]
  },
  {
   "cell_type": "code",
   "execution_count": 11,
   "metadata": {
    "collapsed": false
   },
   "outputs": [
    {
     "name": "stdout",
     "output_type": "stream",
     "text": [
      "Number of sources with Sy Type 1 - 2 = 594\n"
     ]
    }
   ],
   "source": [
    "bass_type = bass_sy_class['new Winkler mk']\n",
    "keep = ((bass_type == '1') | (bass_type == '1.2') | (bass_type == '1.5') |\n",
    "        (bass_type == '1.8') | (bass_type == '1.9') | (bass_type == '2'))\n",
    "bass_type = bass_type[keep]\n",
    "\n",
    "print 'Number of sources with Sy Type 1 - 2 =', len(bass_type)"
   ]
  },
  {
   "cell_type": "markdown",
   "metadata": {},
   "source": [
    "Let's get all of the sources with a proper intrinsic X-ray flux measurement. This is the intrinsic 14-150 keV flux in units of $10^{-12}$ erg/s/cm$^{2}$"
   ]
  },
  {
   "cell_type": "code",
   "execution_count": 13,
   "metadata": {
    "collapsed": false
   },
   "outputs": [
    {
     "name": "stdout",
     "output_type": "stream",
     "text": [
      "Number of sources with intrinsic X-ray meaurement = 832\n"
     ]
    }
   ],
   "source": [
    "bass_fx = bass_xray[' Intrinsic F14-150']\n",
    "bass_fx = bass_fx[bass_fx > 0]\n",
    "\n",
    "print 'Number of sources with intrinsic X-ray meaurement =', len(bass_fx)"
   ]
  },
  {
   "cell_type": "markdown",
   "metadata": {},
   "source": [
    "Let's get the NH values from Claudio's spectral fitting."
   ]
  },
  {
   "cell_type": "code",
   "execution_count": 25,
   "metadata": {
    "collapsed": false
   },
   "outputs": [],
   "source": [
    "bass_nh = bass_xray['log NH']"
   ]
  },
  {
   "cell_type": "markdown",
   "metadata": {},
   "source": [
    "Finally let's get the broad H$\\alpha$ flux"
   ]
  },
  {
   "cell_type": "code",
   "execution_count": 14,
   "metadata": {
    "collapsed": false
   },
   "outputs": [
    {
     "name": "stdout",
     "output_type": "stream",
     "text": [
      "Number of sources with broad H-alpha meaurement = 324\n"
     ]
    }
   ],
   "source": [
    "bass_broad_halpha = bass_halpha['F(Ha broad) [e-15 erg/s/cm2]']\n",
    "bass_broad_halpha = bass_broad_halpha[bass_broad_halpha > 0]\n",
    "\n",
    "print 'Number of sources with broad H-alpha meaurement =', len(bass_broad_halpha)"
   ]
  },
  {
   "cell_type": "markdown",
   "metadata": {},
   "source": [
    "Based on the number of sources with each measurement available, it looks like the broad H-alpha measurement will be the limiting factor which is expected since about 1/2 the sources should be Sy 2's which don't have a broad lines."
   ]
  },
  {
   "cell_type": "markdown",
   "metadata": {},
   "source": [
    "Now let's combine all of the measurements together into one dataframe and calculate luminosities. But first we need to remove duplicates in the X-ray data because for some reason there are two measurements of the same source. \n",
    "\n",
    "#### ***The duplicate sources are sources 249 and 923. I need to ask Mike and Claudio about these.***"
   ]
  },
  {
   "cell_type": "code",
   "execution_count": 28,
   "metadata": {
    "collapsed": false
   },
   "outputs": [
    {
     "name": "stdout",
     "output_type": "stream",
     "text": [
      "Number of sources in final sample = 311\n"
     ]
    }
   ],
   "source": [
    "bass_fx = bass_fx.reset_index().drop_duplicates(subset='index', keep='last').set_index('index')\n",
    "bass_fx = bass_fx[' Intrinsic F14-150']\n",
    "bass_nh = bass_nh.reset_index().drop_duplicates(subset='index', keep='last').set_index('index')\n",
    "bass_nh = bass_nh['log NH']\n",
    "\n",
    "df = pd.DataFrame({'Intrinsic 14-150 Flux':bass_fx, 'Broad Halpha Flux':bass_broad_halpha,\n",
    "                   'Distance':bass_dist, 'NH':bass_nh, 'Type':bass_type})\n",
    "\n",
    "# Remove all sources with missing information\n",
    "df = df.dropna()\n",
    "\n",
    "print 'Number of sources in final sample =', len(df)"
   ]
  },
  {
   "cell_type": "code",
   "execution_count": 29,
   "metadata": {
    "collapsed": true
   },
   "outputs": [],
   "source": [
    "# Convert to X-ray and Halpha luminosities\n",
    "df['Intrinsic X-ray Luminosity'] = 4*np.pi*(df['Distance']*10**6*3.086e18)**2*df['Intrinsic 14-150 Flux']*10**(-12)\n",
    "df['Broad Halpha Luminosity'] = 4*np.pi*(df['Distance']*10**6*3.086e18)**2*df['Broad Halpha Flux']*10**(-15)"
   ]
  },
  {
   "cell_type": "code",
   "execution_count": 30,
   "metadata": {
    "collapsed": false,
    "scrolled": true
   },
   "outputs": [],
   "source": [
    "# Save to a CSV file\n",
    "df.to_csv('../data/cleaned_sample.csv')"
   ]
  }
 ],
 "metadata": {
  "anaconda-cloud": {},
  "kernelspec": {
   "display_name": "Python [conda root]",
   "language": "python",
   "name": "conda-root-py"
  },
  "language_info": {
   "codemirror_mode": {
    "name": "ipython",
    "version": 2
   },
   "file_extension": ".py",
   "mimetype": "text/x-python",
   "name": "python",
   "nbconvert_exporter": "python",
   "pygments_lexer": "ipython2",
   "version": "2.7.12"
  }
 },
 "nbformat": 4,
 "nbformat_minor": 1
}
