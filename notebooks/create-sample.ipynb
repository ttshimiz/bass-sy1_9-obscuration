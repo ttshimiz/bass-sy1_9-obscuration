{
 "cells": [
  {
   "cell_type": "markdown",
   "metadata": {},
   "source": [
    "# Sample definitions\n",
    "This notebook takes the BASS DR 1 catalog as the parent sample and whittles it down to the sample we want to use for our analysis. The cleaned sample will be saved in the ../data directory as a CSV file. "
   ]
  },
  {
   "cell_type": "code",
   "execution_count": 1,
   "metadata": {
    "collapsed": true
   },
   "outputs": [],
   "source": [
    "# Standard module imports\n",
    "import numpy as np\n",
    "import pandas as pd\n",
    "\n",
    "# Useful Directory paths\n",
    "bass_dir = '/Users/ttshimiz/Dropbox/Research/BASS/'"
   ]
  },
  {
   "cell_type": "markdown",
   "metadata": {},
   "source": [
    "We start with the entire BASS DR 1 catalog. The measurements we want for our analysis are the intrinsic X-ray luminosity, the broad H$\\alpha$ luminosity, and the X-ray absorbing column. We further will need more general information such as the Seyfert type, distance, and redshift."
   ]
  },
  {
   "cell_type": "code",
   "execution_count": 2,
   "metadata": {
    "collapsed": false
   },
   "outputs": [],
   "source": [
    "# Upload the catalog and measurements\n",
    "bass_general = pd.read_csv(bass_dir+'bass_general_dr1.csv', index_col=0, skiprows=[1])       # File with general info for every source\n",
    "bass_xray = pd.read_csv(bass_dir+'ricci_xray_fits.csv', index_col=0)           # File with the X-ray spectral fits from Ricci+16\n",
    "bass_sy_class = pd.read_csv(bass_dir+'bass_seyfert_class_v2.csv', index_col=0)     # File with the Winkler 1992 seyfert class types\n",
    "bass_halpha = pd.read_csv(bass_dir+'bass_halpha_dr1.csv', index_col=1)         # File with the H-alpha measurements"
   ]
  },
  {
   "cell_type": "markdown",
   "metadata": {},
   "source": [
    "For now our sample will be defined as those sources that are Sy 1, 1.2, 1.5, 1.8, 1.9, or 2 that have intrinsic X-ray luminosity and broad H-alpha measurements. They further need to have a distance measurement."
   ]
  },
  {
   "cell_type": "code",
   "execution_count": 3,
   "metadata": {
    "collapsed": false
   },
   "outputs": [
    {
     "name": "stdout",
     "output_type": "stream",
     "text": [
      "Number of sources with distance measurement = 789\n"
     ]
    }
   ],
   "source": [
    "# Get all sources with a valid 'Best distance'\n",
    "bass_dist = bass_general['Best distance']\n",
    "bass_dist = bass_dist[bass_dist > 0]\n",
    "\n",
    "print 'Number of sources with distance measurement =', len(bass_dist)"
   ]
  },
  {
   "cell_type": "markdown",
   "metadata": {},
   "source": [
    "Grab the Seyfert types from bass_sy_class. These Types were determined using the Winkler 1992 classification scheme. Throw out all Blazars, and other types."
   ]
  },
  {
   "cell_type": "code",
   "execution_count": 5,
   "metadata": {
    "collapsed": false
   },
   "outputs": [
    {
     "name": "stdout",
     "output_type": "stream",
     "text": [
      "Number of sources with Sy Type 1 - 2 = 594\n"
     ]
    }
   ],
   "source": [
    "bass_type = bass_sy_class['Winkler']\n",
    "keep = ((bass_type == '1') | (bass_type == '1.2') | (bass_type == '1.5') |\n",
    "        (bass_type == '1.8') | (bass_type == '1.9') | (bass_type == '2'))\n",
    "bass_type = bass_type[keep]\n",
    "\n",
    "print 'Number of sources with Sy Type 1 - 2 =', len(bass_type)"
   ]
  },
  {
   "cell_type": "markdown",
   "metadata": {},
   "source": [
    "Let's get all of the sources with a proper intrinsic X-ray flux measurement. This is the intrinsic 14-150 keV flux in units of $10^{-12}$ erg/s/cm$^{2}$"
   ]
  },
  {
   "cell_type": "code",
   "execution_count": 6,
   "metadata": {
    "collapsed": false
   },
   "outputs": [
    {
     "name": "stdout",
     "output_type": "stream",
     "text": [
      "Number of sources with intrinsic X-ray meaurement = 832\n"
     ]
    }
   ],
   "source": [
    "bass_fx = bass_xray[' Intrinsic F14-150']\n",
    "bass_fx = bass_fx[bass_fx > 0]\n",
    "\n",
    "print 'Number of sources with intrinsic X-ray meaurement =', len(bass_fx)"
   ]
  },
  {
   "cell_type": "markdown",
   "metadata": {},
   "source": [
    "Let's get the NH values from Claudio's spectral fitting."
   ]
  },
  {
   "cell_type": "code",
   "execution_count": 7,
   "metadata": {
    "collapsed": false
   },
   "outputs": [],
   "source": [
    "bass_nh = bass_xray['log NH']"
   ]
  },
  {
   "cell_type": "markdown",
   "metadata": {},
   "source": [
    "Finally let's get the broad H$\\alpha$ flux"
   ]
  },
  {
   "cell_type": "code",
   "execution_count": 8,
   "metadata": {
    "collapsed": false
   },
   "outputs": [
    {
     "name": "stdout",
     "output_type": "stream",
     "text": [
      "Number of sources with broad H-alpha measurement = 297\n"
     ]
    }
   ],
   "source": [
    "bass_broad_halpha = bass_halpha[['F(Ha broad) [e-15 erg/s/cm2]', 'err.7']]\n",
    "bass_broad_halpha = bass_broad_halpha[(bass_broad_halpha['F(Ha broad) [e-15 erg/s/cm2]'] > 0) & (bass_broad_halpha['err.7']) > 0]\n",
    "bass_broad_halpha['Broad Halpha S/N'] = bass_broad_halpha['F(Ha broad) [e-15 erg/s/cm2]']/bass_broad_halpha['err.7']\n",
    "print 'Number of sources with broad H-alpha measurement =', len(bass_broad_halpha)"
   ]
  },
  {
   "cell_type": "code",
   "execution_count": 9,
   "metadata": {
    "collapsed": false
   },
   "outputs": [
    {
     "data": {
      "text/html": [
       "<div>\n",
       "<table border=\"1\" class=\"dataframe\">\n",
       "  <thead>\n",
       "    <tr style=\"text-align: right;\">\n",
       "      <th></th>\n",
       "      <th>F(Ha broad) [e-15 erg/s/cm2]</th>\n",
       "      <th>err.7</th>\n",
       "      <th>Broad Halpha S/N</th>\n",
       "    </tr>\n",
       "    <tr>\n",
       "      <th>BAT Index</th>\n",
       "      <th></th>\n",
       "      <th></th>\n",
       "      <th></th>\n",
       "    </tr>\n",
       "  </thead>\n",
       "  <tbody>\n",
       "    <tr>\n",
       "      <th>397</th>\n",
       "      <td>157.194961</td>\n",
       "      <td>40.479372</td>\n",
       "      <td>3.883335</td>\n",
       "    </tr>\n",
       "    <tr>\n",
       "      <th>988</th>\n",
       "      <td>37.660594</td>\n",
       "      <td>18.783547</td>\n",
       "      <td>2.004978</td>\n",
       "    </tr>\n",
       "    <tr>\n",
       "      <th>1205</th>\n",
       "      <td>34.902484</td>\n",
       "      <td>12.006960</td>\n",
       "      <td>2.906854</td>\n",
       "    </tr>\n",
       "  </tbody>\n",
       "</table>\n",
       "</div>"
      ],
      "text/plain": [
       "           F(Ha broad) [e-15 erg/s/cm2]      err.7  Broad Halpha S/N\n",
       "BAT Index                                                           \n",
       "397                          157.194961  40.479372          3.883335\n",
       "988                           37.660594  18.783547          2.004978\n",
       "1205                          34.902484  12.006960          2.906854"
      ]
     },
     "execution_count": 9,
     "metadata": {},
     "output_type": "execute_result"
    }
   ],
   "source": [
    "bass_broad_halpha[bass_broad_halpha['Broad Halpha S/N'] < 5.0]"
   ]
  },
  {
   "cell_type": "markdown",
   "metadata": {},
   "source": [
    "Based on the number of sources with each measurement available, it looks like the broad H-alpha measurement will be the limiting factor which is expected since about 1/2 the sources should be Sy 2's which don't have a broad lines."
   ]
  },
  {
   "cell_type": "markdown",
   "metadata": {},
   "source": [
    "Now let's combine all of the measurements together into one dataframe and calculate luminosities. But first we need to remove duplicates in the X-ray data because for some reason there are two measurements of the same source. (Not necessary anymore).\n",
    "\n",
    "#### ***The duplicate sources are sources 249 and 923. I need to ask Mike and Claudio about these.***  (Got rid of the 249 row with NH = 23.11 and the 923 row with NH = 22.05. Claudio said these are old using a different baseline model. See Slack chat)."
   ]
  },
  {
   "cell_type": "code",
   "execution_count": 17,
   "metadata": {
    "collapsed": false
   },
   "outputs": [
    {
     "name": "stdout",
     "output_type": "stream",
     "text": [
      "Number of sources in final sample = 288\n"
     ]
    }
   ],
   "source": [
    "#bass_fx = bass_fx.reset_index().drop_duplicates(subset='index', keep='last').set_index('index')\n",
    "#bass_fx = bass_fx[' Intrinsic F14-150']\n",
    "#bass_nh = bass_nh.reset_index().drop_duplicates(subset='index', keep='last').set_index('index')\n",
    "#bass_nh = bass_nh['log NH']\n",
    "\n",
    "df = pd.DataFrame({'Intrinsic 14-150 Flux':bass_fx, 'Broad Halpha Flux':bass_broad_halpha['F(Ha broad) [e-15 erg/s/cm2]'],\n",
    "                   'Distance':bass_dist, 'NH':bass_nh, 'Type':bass_type})\n",
    "\n",
    "# Remove all sources with missing information\n",
    "df = df.dropna()\n",
    "\n",
    "print 'Number of sources in final sample =', len(df)"
   ]
  },
  {
   "cell_type": "code",
   "execution_count": 18,
   "metadata": {
    "collapsed": true
   },
   "outputs": [],
   "source": [
    "# Convert to X-ray and Halpha luminosities\n",
    "df['Intrinsic X-ray Luminosity'] = 4*np.pi*(df['Distance']*10**6*3.086e18)**2*df['Intrinsic 14-150 Flux']*10**(-12)\n",
    "df['Broad Halpha Luminosity'] = 4*np.pi*(df['Distance']*10**6*3.086e18)**2*df['Broad Halpha Flux']*10**(-15)"
   ]
  },
  {
   "cell_type": "code",
   "execution_count": 19,
   "metadata": {
    "collapsed": false,
    "scrolled": true
   },
   "outputs": [],
   "source": [
    "# Save to a CSV file\n",
    "df.to_csv('../data/cleaned_sample.csv')"
   ]
  },
  {
   "cell_type": "markdown",
   "metadata": {},
   "source": [
    "I also want to create a sample with all Seyferts regardless of whether they have a broad H-alpha measurement so we can look at population fractions."
   ]
  },
  {
   "cell_type": "code",
   "execution_count": 20,
   "metadata": {
    "collapsed": false
   },
   "outputs": [],
   "source": [
    "df_all = pd.DataFrame(index=bass_type.index, data={'Intrinsic 14-150 Flux':bass_fx,'Distance':bass_dist, 'NH':bass_nh, 'Type':bass_type,\n",
    "                       'Broad Halpha Flux':bass_broad_halpha['F(Ha broad) [e-15 erg/s/cm2]']})\n",
    "df_all['Intrinsic X-ray Luminosity'] = 4*np.pi*(df_all['Distance']*10**6*3.086e18)**2*df_all['Intrinsic 14-150 Flux']*10**(-12)"
   ]
  },
  {
   "cell_type": "code",
   "execution_count": 21,
   "metadata": {
    "collapsed": false
   },
   "outputs": [],
   "source": [
    "# Save to a CSV file\n",
    "df_all.to_csv('../data/cleaned_sample_all_seyferts.csv')"
   ]
  }
 ],
 "metadata": {
  "anaconda-cloud": {},
  "kernelspec": {
   "display_name": "Python [conda root]",
   "language": "python",
   "name": "conda-root-py"
  },
  "language_info": {
   "codemirror_mode": {
    "name": "ipython",
    "version": 2
   },
   "file_extension": ".py",
   "mimetype": "text/x-python",
   "name": "python",
   "nbconvert_exporter": "python",
   "pygments_lexer": "ipython2",
   "version": "2.7.12"
  }
 },
 "nbformat": 4,
 "nbformat_minor": 1
}
